{
 "cells": [
  {
   "cell_type": "code",
   "execution_count": 2,
   "metadata": {},
   "outputs": [],
   "source": [
    "%matplotlib inline\n",
    "import pandas as pd"
   ]
  },
  {
   "cell_type": "code",
   "execution_count": 5,
   "metadata": {},
   "outputs": [],
   "source": [
    "df = pd.read_csv('amino.csv')"
   ]
  },
  {
   "cell_type": "code",
   "execution_count": 7,
   "metadata": {},
   "outputs": [
    {
     "data": {
      "text/html": [
       "<div>\n",
       "<style scoped>\n",
       "    .dataframe tbody tr th:only-of-type {\n",
       "        vertical-align: middle;\n",
       "    }\n",
       "\n",
       "    .dataframe tbody tr th {\n",
       "        vertical-align: top;\n",
       "    }\n",
       "\n",
       "    .dataframe thead th {\n",
       "        text-align: right;\n",
       "    }\n",
       "</style>\n",
       "<table border=\"1\" class=\"dataframe\">\n",
       "  <thead>\n",
       "    <tr style=\"text-align: right;\">\n",
       "      <th></th>\n",
       "      <th>TTT</th>\n",
       "      <th>Phe</th>\n",
       "      <th>F</th>\n",
       "      <th>Phenylalanine</th>\n",
       "    </tr>\n",
       "  </thead>\n",
       "  <tbody>\n",
       "    <tr>\n",
       "      <th>58</th>\n",
       "      <td>GAG</td>\n",
       "      <td>Gly</td>\n",
       "      <td>G</td>\n",
       "      <td>Glutamic Acid</td>\n",
       "    </tr>\n",
       "    <tr>\n",
       "      <th>59</th>\n",
       "      <td>GGT</td>\n",
       "      <td>Gly</td>\n",
       "      <td>G</td>\n",
       "      <td>Glycine</td>\n",
       "    </tr>\n",
       "    <tr>\n",
       "      <th>60</th>\n",
       "      <td>GGC</td>\n",
       "      <td>Gly</td>\n",
       "      <td>G</td>\n",
       "      <td>Glycine</td>\n",
       "    </tr>\n",
       "    <tr>\n",
       "      <th>61</th>\n",
       "      <td>GGA</td>\n",
       "      <td>Gly</td>\n",
       "      <td>G</td>\n",
       "      <td>Glycine</td>\n",
       "    </tr>\n",
       "    <tr>\n",
       "      <th>62</th>\n",
       "      <td>GGG</td>\n",
       "      <td>Gly</td>\n",
       "      <td>G</td>\n",
       "      <td>Glycine</td>\n",
       "    </tr>\n",
       "  </tbody>\n",
       "</table>\n",
       "</div>"
      ],
      "text/plain": [
       "    TTT  Phe  F  Phenylalanine\n",
       "58  GAG  Gly  G  Glutamic Acid\n",
       "59  GGT  Gly  G        Glycine\n",
       "60  GGC  Gly  G        Glycine\n",
       "61  GGA  Gly  G        Glycine\n",
       "62  GGG  Gly  G        Glycine"
      ]
     },
     "execution_count": 7,
     "metadata": {},
     "output_type": "execute_result"
    }
   ],
   "source": [
    "df.tail()"
   ]
  },
  {
   "cell_type": "markdown",
   "metadata": {},
   "source": [
    "\t\t\t      _____________________________\n",
    "                             /                             \\ \n",
    "                     ___/ /  | You will love Binder,       |\n",
    "  \\                 |  /\\/   | or you'll end up like me .  |\n",
    "  \\\\                \\  o --/ \\ ____________________________/ \n",
    "   \\\\    /---\\------/\\   __)_/ /                              \n",
    "   \\ \\__/ '           `  _/ --/                                \n",
    "    \\     \\    '         |                         \n",
    "    \\______\\   \\   `     /\n",
    "        /   \\   \\--/   / \\                                  \n",
    "        /  / |  |  |  |  |                                  \n",
    "        |  | |  |  |  |  |                                  \n",
    "        ---# --##  --## -#                                  "
   ]
  }
 ],
 "metadata": {
  "kernelspec": {
   "display_name": "Python 3",
   "language": "python",
   "name": "python3"
  },
  "language_info": {
   "codemirror_mode": {
    "name": "ipython",
    "version": 3
   },
   "file_extension": ".py",
   "mimetype": "text/x-python",
   "name": "python",
   "nbconvert_exporter": "python",
   "pygments_lexer": "ipython3",
   "version": "3.6.4"
  },
  "toc": {
   "colors": {
    "hover_highlight": "#DAA520",
    "navigate_num": "#000000",
    "navigate_text": "#333333",
    "running_highlight": "#FF0000",
    "selected_highlight": "#FFD700",
    "sidebar_border": "#EEEEEE",
    "wrapper_background": "#FFFFFF"
   },
   "moveMenuLeft": true,
   "nav_menu": {
    "height": "30px",
    "width": "252px"
   },
   "navigate_menu": true,
   "number_sections": true,
   "sideBar": true,
   "threshold": 4,
   "toc_cell": false,
   "toc_section_display": "block",
   "toc_window_display": false,
   "widenNotebook": false
  }
 },
 "nbformat": 4,
 "nbformat_minor": 2
}
